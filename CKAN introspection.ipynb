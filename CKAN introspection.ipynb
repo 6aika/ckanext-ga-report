{
 "metadata": {
  "name": ""
 },
 "nbformat": 3,
 "nbformat_minor": 0,
 "worksheets": [
  {
   "cells": [
    {
     "cell_type": "code",
     "collapsed": false,
     "input": [
      "## Inside a CKAN virtualenv!\n",
      "## \n",
      "## Load config, plugins, environment\n",
      "##\n",
      "import os\n",
      "filename = '/var/ckan/ckan.ini'\n",
      "filename = os.path.abspath(filename)\n",
      "\n",
      "# -- from _get_config()\n",
      "from paste.deploy import appconfig\n",
      "from paste.script.util.logging_config import fileConfig\n",
      "if not os.path.exists(filename):\n",
      "    raise AssertionError('Config filename %r does not exist.' % filename)\n",
      "fileConfig(filename)\n",
      "conf = appconfig('config:' + filename)\n",
      "\n",
      "# -- from _load_config()\n",
      "from ckan.config.environment import load_environment\n",
      "load_environment(conf.global_conf, conf.local_conf)"
     ],
     "language": "python",
     "metadata": {},
     "outputs": []
    }
   ],
   "metadata": {}
  }
 ]
}
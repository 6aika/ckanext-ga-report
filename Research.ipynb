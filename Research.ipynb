{
 "metadata": {
  "name": ""
 },
 "nbformat": 3,
 "nbformat_minor": 0,
 "worksheets": [
  {
   "cells": [
    {
     "cell_type": "code",
     "collapsed": false,
     "input": [
      "## \n",
      "## Load config, plugins, environment\n",
      "##\n",
      "import os\n",
      "filename = '/var/ckan/ckan.ini'\n",
      "filename = os.path.abspath(filename)\n",
      "assert os.path.exists(filename), 'Config filename %r does not exist.' % filename\n",
      "\n",
      "# -- from _get_config()\n",
      "from paste.deploy import appconfig\n",
      "conf = appconfig('config:' + filename)\n",
      "\n",
      "# -- from _load_config()\n",
      "from ckan.config.environment import load_environment\n",
      "load_environment(conf.global_conf, conf.local_conf)"
     ],
     "language": "python",
     "metadata": {},
     "outputs": [],
     "prompt_number": 1
    },
    {
     "cell_type": "code",
     "collapsed": false,
     "input": [
      "# Load CKAN\n",
      "from ckan import model\n",
      "dir(model)"
     ],
     "language": "python",
     "metadata": {},
     "outputs": [
      {
       "metadata": {},
       "output_type": "pyout",
       "prompt_number": 2,
       "text": [
        "['Action',\n",
        " 'Activity',\n",
        " 'ActivityDetail',\n",
        " 'Dashboard',\n",
        " 'DataCache',\n",
        " 'DictProxy',\n",
        " 'DomainObject',\n",
        " 'DomainObjectOperation',\n",
        " 'Enum',\n",
        " 'Group',\n",
        " 'GroupExtra',\n",
        " 'GroupExtraRevision',\n",
        " 'GroupRevision',\n",
        " 'GroupRole',\n",
        " 'MAX_TAG_LENGTH',\n",
        " 'MIN_TAG_LENGTH',\n",
        " 'Member',\n",
        " 'MemberRevision',\n",
        " 'MetaData',\n",
        " 'NotRealUserException',\n",
        " 'OrderedDict',\n",
        " 'PACKAGE_NAME_MAX_LENGTH',\n",
        " 'PACKAGE_NAME_MIN_LENGTH',\n",
        " 'PACKAGE_VERSION_MAX_LENGTH',\n",
        " 'PSEUDO_USER__LOGGED_IN',\n",
        " 'PSEUDO_USER__VISITOR',\n",
        " 'Package',\n",
        " 'PackageExtra',\n",
        " 'PackageExtraRevision',\n",
        " 'PackageRelationship',\n",
        " 'PackageRevision',\n",
        " 'PackageRole',\n",
        " 'PackageTag',\n",
        " 'PackageTagRevision',\n",
        " 'Rating',\n",
        " 'Related',\n",
        " 'RelatedDataset',\n",
        " 'Repository',\n",
        " 'Resource',\n",
        " 'ResourceGroup',\n",
        " 'ResourceGroupRevision',\n",
        " 'ResourceRevision',\n",
        " 'Revision',\n",
        " 'Role',\n",
        " 'RoleAction',\n",
        " 'SQLAlchemySession',\n",
        " 'Session',\n",
        " 'State',\n",
        " 'System',\n",
        " 'SystemInfo',\n",
        " 'SystemRole',\n",
        " 'Table',\n",
        " 'Tag',\n",
        " 'TaskStatus',\n",
        " 'TrackingSummary',\n",
        " 'User',\n",
        " 'UserFollowingDataset',\n",
        " 'UserFollowingGroup',\n",
        " 'UserFollowingUser',\n",
        " 'UserObjectRole',\n",
        " 'VOCABULARY_NAME_MAX_LENGTH',\n",
        " 'VOCABULARY_NAME_MIN_LENGTH',\n",
        " 'Vocabulary',\n",
        " '__builtins__',\n",
        " '__doc__',\n",
        " '__file__',\n",
        " '__name__',\n",
        " '__package__',\n",
        " '__path__',\n",
        " '_get_groups',\n",
        " '_get_packages',\n",
        " '_get_revision_user',\n",
        " 'activity',\n",
        " 'activity_detail_table',\n",
        " 'activity_table',\n",
        " 'add_user_to_role',\n",
        " 'authz',\n",
        " 'ckan',\n",
        " 'clear_user_roles',\n",
        " 'core',\n",
        " 'dashboard',\n",
        " 'data_cache',\n",
        " 'data_cache_table',\n",
        " 'datetime',\n",
        " 'delete_system_info',\n",
        " 'domain_object',\n",
        " 'engine_is_pg',\n",
        " 'engine_is_sqlite',\n",
        " 'extension',\n",
        " 'extra_revision_table',\n",
        " 'follower',\n",
        " 'get_system_info',\n",
        " 'give_all_packages_default_user_roles',\n",
        " 'group',\n",
        " 'group_extra',\n",
        " 'group_extra_table',\n",
        " 'group_revision_table',\n",
        " 'group_table',\n",
        " 'init_authz_configuration_data',\n",
        " 'init_authz_const_data',\n",
        " 'init_model',\n",
        " 'is_id',\n",
        " 'license',\n",
        " 'log',\n",
        " 'logging',\n",
        " 'member_revision_table',\n",
        " 'member_table',\n",
        " 'meta',\n",
        " 'misc',\n",
        " 'modification',\n",
        " 'package',\n",
        " 'package_extra',\n",
        " 'package_extra_table',\n",
        " 'package_relationship',\n",
        " 'package_relationship_revision_table',\n",
        " 'package_relationship_table',\n",
        " 'package_revision_table',\n",
        " 'package_table',\n",
        " 'package_tag_revision_table',\n",
        " 'package_tag_table',\n",
        " 'rating',\n",
        " 're',\n",
        " 'related',\n",
        " 'related_dataset_table',\n",
        " 'related_table',\n",
        " 'remove_user_from_role',\n",
        " 'repo',\n",
        " 'resource',\n",
        " 'resource_group_revision_table',\n",
        " 'resource_group_table',\n",
        " 'resource_revision_table',\n",
        " 'resource_table',\n",
        " 'revision_as_dict',\n",
        " 'revision_table',\n",
        " 'set_system_info',\n",
        " 'setup_default_user_roles',\n",
        " 'setup_user_roles',\n",
        " 'sqav',\n",
        " 'system_info',\n",
        " 'system_info_table',\n",
        " 'tag',\n",
        " 'tag_table',\n",
        " 'task_status',\n",
        " 'task_status_table',\n",
        " 'term_translation',\n",
        " 'term_translation_table',\n",
        " 'tracking',\n",
        " 'tracking_raw_table',\n",
        " 'tracking_summary_table',\n",
        " 'types',\n",
        " 'user',\n",
        " 'user_has_role',\n",
        " 'user_table',\n",
        " 'vdm',\n",
        " 'version_table',\n",
        " 'vocabulary',\n",
        " 'warnings',\n",
        " 'with_statement']"
       ]
      }
     ],
     "prompt_number": 2
    },
    {
     "cell_type": "code",
     "collapsed": false,
     "input": [
      "# Are we connected to the database?\n",
      "model.Session.query(model.Package).count()"
     ],
     "language": "python",
     "metadata": {},
     "outputs": [
      {
       "metadata": {},
       "output_type": "pyout",
       "prompt_number": 3,
       "text": [
        "21900L"
       ]
      }
     ],
     "prompt_number": 3
    },
    {
     "cell_type": "code",
     "collapsed": false,
     "input": [
      "# Can we see the extension?\n",
      "from ckanext.ga_report import ga_model\n",
      "dir(ga_model)"
     ],
     "language": "python",
     "metadata": {},
     "outputs": [
      {
       "metadata": {},
       "output_type": "pyout",
       "prompt_number": 4,
       "text": [
        "['ALLOWED_FIELDSET_PARAMS',\n",
        " 'APIKEY_HEADER_NAME_DEFAULT',\n",
        " 'APIKEY_HEADER_NAME_KEY',\n",
        " 'BaseController',\n",
        " 'Column',\n",
        " 'ForeignKey',\n",
        " 'GA_Publisher',\n",
        " 'GA_ReferralStat',\n",
        " 'GA_Stat',\n",
        " 'GA_Url',\n",
        " 'MarkupTemplate',\n",
        " 'MetaData',\n",
        " 'N_',\n",
        " 'NewTextTemplate',\n",
        " 'PAGINATE_ITEMS_PER_PAGE',\n",
        " 'Table',\n",
        " 'ValidationException',\n",
        " 'WSGIController',\n",
        " '_',\n",
        " '__builtins__',\n",
        " '__doc__',\n",
        " '__file__',\n",
        " '__name__',\n",
        " '__package__',\n",
        " '_get_package_and_publisher',\n",
        " '_normalize_url',\n",
        " 'abort',\n",
        " 'app_globals',\n",
        " 'asbool',\n",
        " 'c',\n",
        " 'cache',\n",
        " 'cached_tables',\n",
        " 'cached_template',\n",
        " 'ckan',\n",
        " 'config',\n",
        " 'delete',\n",
        " 'func',\n",
        " 'g',\n",
        " 'get_children',\n",
        " 'get_score_for_dataset',\n",
        " 'get_table',\n",
        " 'get_top_level',\n",
        " 'gettext',\n",
        " 'go_down_tree',\n",
        " 'h',\n",
        " 'i18n',\n",
        " 'init_tables',\n",
        " 'json',\n",
        " 'jsonify',\n",
        " 'literal',\n",
        " 'log',\n",
        " 'logging',\n",
        " 'maintain',\n",
        " 'make_uuid',\n",
        " 'mapper',\n",
        " 'metadata',\n",
        " 'model',\n",
        " 'ngettext',\n",
        " 'p',\n",
        " 'post_update_url_stats',\n",
        " 'pre_update_url_stats',\n",
        " 'pub_table',\n",
        " 'pylons_globals',\n",
        " 're',\n",
        " 'redirect',\n",
        " 'redirect_to',\n",
        " 'referrer_table',\n",
        " 'relation',\n",
        " 'render',\n",
        " 'render_',\n",
        " 'render_jinja2',\n",
        " 'render_snippet',\n",
        " 'render_text',\n",
        " 'request',\n",
        " 'response',\n",
        " 'select',\n",
        " 'session',\n",
        " 'stat_table',\n",
        " 'time',\n",
        " 'types',\n",
        " 'ungettext',\n",
        " 'update_publisher',\n",
        " 'update_publisher_stats',\n",
        " 'update_sitewide_stats',\n",
        " 'update_social',\n",
        " 'update_url_stats',\n",
        " 'url_table',\n",
        " 'uuid',\n",
        " 'validate']"
       ]
      }
     ],
     "prompt_number": 4
    },
    {
     "cell_type": "code",
     "collapsed": false,
     "input": [
      "# Are we connected to the extension?\n",
      "model.Session.query(ga_model.GA_Url).count(), model.Session.query(ga_model.GA_Stat).count()"
     ],
     "language": "python",
     "metadata": {},
     "outputs": [
      {
       "metadata": {},
       "output_type": "pyout",
       "prompt_number": 5,
       "text": [
        "(168179L, 17589L)"
       ]
      }
     ],
     "prompt_number": 5
    },
    {
     "cell_type": "code",
     "collapsed": false,
     "input": [
      "# Try fetching an object from the ckan extension\n",
      "xx = model.Session.query(ga_model.GA_Url).first()\n",
      "xx"
     ],
     "language": "python",
     "metadata": {},
     "outputs": [
      {
       "metadata": {},
       "output_type": "pyout",
       "prompt_number": 6,
       "text": [
        "<ckanext.ga_report.ga_model.GA_Url at 0x5f3b890>"
       ]
      }
     ],
     "prompt_number": 6
    },
    {
     "cell_type": "code",
     "collapsed": false,
     "input": [
      "# What does a URL look like?\n",
      "from collections import OrderedDict\n",
      "def inspect(obj):\n",
      "    propz = filter(lambda x:x[0]!='_',dir(obj))\n",
      "    return {x:obj.__getattribute__(x) for x in propz}\n",
      "inspect(xx)"
     ],
     "language": "python",
     "metadata": {},
     "outputs": [
      {
       "metadata": {},
       "output_type": "pyout",
       "prompt_number": 7,
       "text": [
        "{'department_id': u'department-for-communities-and-local-government',\n",
        " 'id': u'ad3c467c-7bf5-46e9-9bdd-b1d5aae227e9',\n",
        " 'package_id': u'staff-organograms-and-pay-department-for-communities-and-local-government',\n",
        " 'pageviews': u'18',\n",
        " 'period_complete_day': 31,\n",
        " 'period_name': u'2012-08',\n",
        " 'url': u'/dataset/staff-organograms-and-pay-department-for-communities-and-local-government',\n",
        " 'visits': u'10'}"
       ]
      }
     ],
     "prompt_number": 7
    },
    {
     "cell_type": "code",
     "collapsed": false,
     "input": [
      "# What does a Publisher look like?\n",
      "inspect( model.Session.query(ga_model.GA_Publisher).first() )"
     ],
     "language": "python",
     "metadata": {},
     "outputs": [
      {
       "metadata": {},
       "output_type": "pyout",
       "prompt_number": 8,
       "text": [
        "{'id': u'433d489c-684f-40c9-abb1-f9827cd60e31',\n",
        " 'parent': u'',\n",
        " 'period_name': u'2012-07',\n",
        " 'publisher_name': u'ministry-of-justice',\n",
        " 'subpublishercount': 16,\n",
        " 'toplevel': True,\n",
        " 'views': u'1639',\n",
        " 'visits': u'605'}"
       ]
      }
     ],
     "prompt_number": 8
    },
    {
     "cell_type": "code",
     "collapsed": false,
     "input": [
      "inspect( model.Session.query(ga_model.GA_ReferralStat).first() )"
     ],
     "language": "python",
     "metadata": {},
     "outputs": [
      {
       "metadata": {},
       "output_type": "pyout",
       "prompt_number": 9,
       "text": [
        "{'count': 1,\n",
        " 'id': u'ffa8f02f-322f-4c1f-bcf3-ecd34731287c',\n",
        " 'period_name': u'2012-11',\n",
        " 'source': u'TypePad',\n",
        " 'url': u'/dataset/wfd-surface-water-classification-status-and-objectives/resource/7e47d289-0356-4ccd-97eb-c34ddb49c514'}"
       ]
      }
     ],
     "prompt_number": 9
    },
    {
     "cell_type": "code",
     "collapsed": false,
     "input": [
      "inspect( model.Session.query(ga_model.GA_Stat).first() )"
     ],
     "language": "python",
     "metadata": {},
     "outputs": [
      {
       "metadata": {},
       "output_type": "pyout",
       "prompt_number": 10,
       "text": [
        "{'id': u'6476ed1e-70c7-4765-b078-0fb884666cc5',\n",
        " 'key': u'Android 2.1-update1',\n",
        " 'period_complete_day': u'28',\n",
        " 'period_name': u'2013-02',\n",
        " 'stat_name': u'Operating Systems versions',\n",
        " 'value': u'58'}"
       ]
      }
     ],
     "prompt_number": 10
    }
   ],
   "metadata": {}
  }
 ]
}
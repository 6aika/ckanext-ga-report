{
 "metadata": {
  "name": ""
 },
 "nbformat": 3,
 "nbformat_minor": 0,
 "worksheets": [
  {
   "cells": [
    {
     "cell_type": "code",
     "collapsed": false,
     "input": [
      "## \n",
      "## Load config, plugins, environment\n",
      "##\n",
      "import os\n",
      "filename = '/var/ckan/ckan.ini'\n",
      "filename = os.path.abspath(filename)\n",
      "\n",
      "# -- from _get_config()\n",
      "from paste.deploy import appconfig\n",
      "from paste.script.util.logging_config import fileConfig\n",
      "if not os.path.exists(filename):\n",
      "    raise AssertionError('Config filename %r does not exist.' % filename)\n",
      "fileConfig(filename)\n",
      "conf = appconfig('config:' + filename)\n",
      "\n",
      "# -- from _load_config()\n",
      "from ckan.config.environment import load_environment\n",
      "load_environment(conf.global_conf, conf.local_conf)"
     ],
     "language": "python",
     "metadata": {},
     "outputs": [
      {
       "output_type": "stream",
       "stream": "stderr",
       "text": [
        "2014-01-21 20:56:57,148 DEBUG [ckanext.spatial.model.package_extent] Spatial tables defined in memory\n"
       ]
      },
      {
       "output_type": "stream",
       "stream": "stderr",
       "text": [
        "2014-01-21 20:56:57,156 DEBUG [ckanext.spatial.model.package_extent] Spatial tables already exist\n"
       ]
      },
      {
       "output_type": "stream",
       "stream": "stderr",
       "text": [
        "2014-01-21 20:56:57,167 DEBUG [ckanext.harvest.model] Harvest tables defined in memory\n"
       ]
      },
      {
       "output_type": "stream",
       "stream": "stderr",
       "text": [
        "2014-01-21 20:56:57,173 DEBUG [ckanext.harvest.model] Harvest tables already exist\n"
       ]
      }
     ],
     "prompt_number": 1
    },
    {
     "cell_type": "code",
     "collapsed": false,
     "input": [
      "# Monthly\n",
      "# -------\n",
      "# BANNER     Visitors this month\n",
      "# A/B BAR    %new visitors this month\n",
      "# ICONS      Avg.Pageviews per visitor \n",
      "# BANNER     %BounceRate\n",
      "# BANNER     Avg.Time on site\n",
      "# LINECHART  Pageviews Per Daydal pankcakdeal p\n",
      "# PIECHART   Browser[Name,Version]\n",
      "# PIECHART   OperatingSystem[Name,Version]\n",
      "# PIECHART   Country\n",
      "# PIECHART   Language\n",
      "\n",
      "# Over Site Lifetime\n",
      "# ------------------\n",
      "# Pageviews per month\n",
      "# Top Dataset   (how to be useful?)\n",
      "# Top Publisher (how to be useful?)"
     ],
     "language": "python",
     "metadata": {},
     "outputs": [],
     "prompt_number": 1
    },
    {
     "cell_type": "code",
     "collapsed": false,
     "input": [
      "from random import randint\n",
      "def randomLetter():\n",
      "    from string import lowercase\n",
      "    return lowercase[randint(0,25)]\n",
      "    \n",
      "def randomSeries(name):\n",
      "    return {'name':name, 'value':randint(0,99)}\n",
      "    \n",
      "def randomPie(numseries=3):\n",
      "    return [ randomSeries((\"entry%d\"%i)) for i in range(numseries) ]\n",
      "\n",
      "def randomMonth(datename):\n",
      "    return { 'datename':datename, 'pie1':randomPie(4), 'pie2':randomPie(randint(2,4)), 'pie3':randomPie(18), 'pie4':randomPie(8),  }\n",
      "\n",
      "import json\n",
      "jsondata = {\n",
      "    'hello':'world',\n",
      "    'monthlydata' : [ randomMonth('March 2012'), randomMonth('April 2012'), randomMonth('May 2012'), randomMonth('June 2012'), ]\n",
      "}\n",
      "# Pie charts should all have the same series in the same order, so add some zero padding.\n",
      "def normalizePieCharts(pies):\n",
      "    series = ['entry0','entry1','entry2','entry3']\n",
      "    def getEntry(name,entries):\n",
      "        for x in entries:\n",
      "            if x['name']==name: return x\n",
      "        return {'name':name,'value':0}\n",
      "    # Update the pie chart in-place\n",
      "    for pie in pies:\n",
      "        tmp = [ pie.pop() for i in range(len(pie)) ]\n",
      "        for name in series:\n",
      "            pie.append( getEntry(name,tmp) )\n",
      "# Experiment with variable series: Some series do not appear here\n",
      "p = jsondata['monthlydata'][0]['pie1']  ;  p.remove(p[0])\n",
      "p = jsondata['monthlydata'][2]['pie1']  ;  p.remove(p[2])\n",
      "for name in ['pie1','pie2','pie3','pie4']:\n",
      "    normalizePieCharts( [ x[name] for x in jsondata['monthlydata'] ] )\n",
      "with open('ckanext/ga_report/public/scripts/json/ga_reports.json','w') as f:\n",
      "    json.dump(jsondata,f)"
     ],
     "language": "python",
     "metadata": {},
     "outputs": [],
     "prompt_number": 67
    },
    {
     "cell_type": "code",
     "collapsed": false,
     "input": [
      "a=['one','two','three']\n",
      "tmp = [ a.pop() for x in range(len(a)) ]\n",
      "a.append('two')\n",
      "a,tmp\n",
      "\n",
      "\n",
      "\n"
     ],
     "language": "python",
     "metadata": {},
     "outputs": [
      {
       "metadata": {},
       "output_type": "pyout",
       "prompt_number": 56,
       "text": [
        "(['two'], ['three', 'two', 'one'])"
       ]
      }
     ],
     "prompt_number": 56
    }
   ],
   "metadata": {}
  }
 ]
}